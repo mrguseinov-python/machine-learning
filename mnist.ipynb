{
 "cells": [
  {
   "cell_type": "markdown",
   "id": "moving-ceiling",
   "metadata": {},
   "source": [
    "Based on the [Beginner Quickstart](https://www.tensorflow.org/tutorials/quickstart/beginner) and [Keras Basics](https://www.tensorflow.org/tutorials/keras/classification) articles and the [MNIST](http://yann.lecun.com/exdb/mnist/) dataset."
   ]
  },
  {
   "cell_type": "code",
   "execution_count": null,
   "id": "international-donor",
   "metadata": {},
   "outputs": [],
   "source": [
    "%reset -f"
   ]
  },
  {
   "cell_type": "markdown",
   "id": "adult-minneapolis",
   "metadata": {},
   "source": [
    "### Machine Learning\n",
    "\n",
    "A branch of artificial intelligence based on the idea that systems can learn from data, identify patterns and make decisions with minimal human intervention."
   ]
  },
  {
   "cell_type": "markdown",
   "id": "organized-submission",
   "metadata": {},
   "source": [
    "### Import the Dataset\n",
    "\n",
    "The MNIST dataset contains 70,000 images of handwritten digits: 60,000 to train the model and 10,000 to test it.\n",
    "\n",
    "Note: You can access this dataset directly from tensorflow."
   ]
  },
  {
   "cell_type": "code",
   "execution_count": null,
   "id": "accessory-virginia",
   "metadata": {},
   "outputs": [],
   "source": [
    "import tensorflow as tf\n",
    "\n",
    "mnist = tf.keras.datasets.mnist\n",
    "(train_images, train_labels), (test_images, test_labels) = mnist.load_data()"
   ]
  },
  {
   "cell_type": "markdown",
   "id": "billion-graphic",
   "metadata": {},
   "source": [
    "Now we have 4 numpy arrays:\n",
    "\n",
    "* Training set: `train_images` and `train_labels`, which is the data the model uses to learn.\n",
    "* Test set: `test_images` and `test_labels`, which is the data the model is tested against."
   ]
  },
  {
   "cell_type": "markdown",
   "id": "extra-trader",
   "metadata": {},
   "source": [
    "### Explore the Data\n",
    "\n",
    "Let's explore the format of the dataset before training the model.\n",
    "\n",
    "There are 60,000 images in the training set, with each image represented as 28 x 28 pixels."
   ]
  },
  {
   "cell_type": "code",
   "execution_count": null,
   "id": "absolute-poverty",
   "metadata": {},
   "outputs": [],
   "source": [
    "train_images.shape"
   ]
  },
  {
   "cell_type": "markdown",
   "id": "beautiful-supervisor",
   "metadata": {},
   "source": [
    "Each label is an integer between 0 and 9."
   ]
  },
  {
   "cell_type": "code",
   "execution_count": null,
   "id": "abandoned-survey",
   "metadata": {},
   "outputs": [],
   "source": [
    "print(f\"   Min: {min(train_labels)}\")\n",
    "print(f\"   Max: {max(train_labels)}\")\n",
    "print(f\"Labels: {train_labels}\")"
   ]
  },
  {
   "cell_type": "markdown",
   "id": "educated-publicity",
   "metadata": {
    "id": "TMPI88iZpO2T"
   },
   "source": [
    "There are 10,000 images in the test set. Again, each image is represented as 28 x 28 pixels."
   ]
  },
  {
   "cell_type": "code",
   "execution_count": null,
   "id": "electronic-christmas",
   "metadata": {
    "id": "2KFnYlcwCaWl",
    "tags": []
   },
   "outputs": [],
   "source": [
    "test_images.shape"
   ]
  },
  {
   "cell_type": "markdown",
   "id": "political-amino",
   "metadata": {},
   "source": [
    "And 10,000 corresponding test labels."
   ]
  },
  {
   "cell_type": "code",
   "execution_count": null,
   "id": "israeli-lodge",
   "metadata": {},
   "outputs": [],
   "source": [
    "test_labels.shape"
   ]
  },
  {
   "cell_type": "markdown",
   "id": "cleared-costs",
   "metadata": {},
   "source": [
    "### Preprocess the Data\n",
    "\n",
    "The data must be preprocessed before training the network. Look at the first image in the training set to see that the pixel values fall in the range of 0 to 255."
   ]
  },
  {
   "cell_type": "code",
   "execution_count": null,
   "id": "patent-diabetes",
   "metadata": {},
   "outputs": [],
   "source": [
    "import matplotlib.pyplot as plt\n",
    "\n",
    "plt.imshow(train_images[0], cmap=plt.cm.binary)\n",
    "plt.colorbar()\n",
    "plt.show()"
   ]
  },
  {
   "cell_type": "markdown",
   "id": "tropical-johns",
   "metadata": {
    "id": "Wz7l27Lz9S1P"
   },
   "source": [
    "Scale these values to a range of 0 to 1 before feeding them to the neural network model. To do so, divide the values by 255. It's important to preprocess the training and the testing sets in the same way."
   ]
  },
  {
   "cell_type": "code",
   "execution_count": null,
   "id": "hourly-sucking",
   "metadata": {},
   "outputs": [],
   "source": [
    "train_images = train_images / 255.0\n",
    "test_images = test_images / 255.0"
   ]
  },
  {
   "cell_type": "markdown",
   "id": "leading-retailer",
   "metadata": {
    "id": "Ee638AlnCaWz"
   },
   "source": [
    "Display the first 10 images from the training set with corresponding labels to verify that the data is in the correct format."
   ]
  },
  {
   "cell_type": "code",
   "execution_count": null,
   "id": "fundamental-nowhere",
   "metadata": {},
   "outputs": [],
   "source": [
    "plt.figure(figsize=(10, 4))\n",
    "for i in range(10):\n",
    "    plt.subplot(2, 5, i + 1)\n",
    "    plt.xticks([])\n",
    "    plt.yticks([])\n",
    "    plt.grid(False)\n",
    "    plt.imshow(train_images[i], cmap=plt.cm.binary)\n",
    "    plt.xlabel(train_labels[i])\n",
    "plt.show()"
   ]
  },
  {
   "cell_type": "markdown",
   "id": "consistent-portfolio",
   "metadata": {},
   "source": [
    "### Build the Model\n",
    "\n",
    "Building the neural network requires two steps: configuring the layers of the model and compiling it."
   ]
  },
  {
   "cell_type": "markdown",
   "id": "opponent-viewer",
   "metadata": {},
   "source": [
    "#### Set up the layers\n",
    "\n",
    "The basic building block of a neural network is a layer. Layers extract representations from the data fed into them. Hopefully, these representations are meaningful for the problem at hand.\n",
    "\n",
    "In general, deep learning consists of chaining together simple layers. Most layers, such as `tf.keras.layers.Dense`, have parameters that are learned during training."
   ]
  },
  {
   "cell_type": "code",
   "execution_count": null,
   "id": "documented-understanding",
   "metadata": {},
   "outputs": [],
   "source": [
    "model = tf.keras.models.Sequential(\n",
    "    [\n",
    "        tf.keras.layers.Flatten(input_shape=(28, 28)),\n",
    "        tf.keras.layers.Dense(128, activation=\"relu\"),\n",
    "        tf.keras.layers.Dropout(0.2),\n",
    "        tf.keras.layers.Dense(10),\n",
    "    ]\n",
    ")"
   ]
  },
  {
   "cell_type": "markdown",
   "id": "opened-pollution",
   "metadata": {
    "id": "gut8A_7rCaW6"
   },
   "source": [
    "The first layer, `tf.keras.layers.Flatten`, transforms the format of the images from a two-dimensional array (28 x 28 pixels) to a one-dimensional array (28 * 28 = 784 pixels). Think of this layer as unstacking rows of pixels in the image and lining them up. This layer has no parameters to learn: it only reformats the data.\n",
    "\n",
    "After the pixels are flattened, the network consists of two `tf.keras.layers.Dense` layers. These are densely (fully) connected neural layers. The first `Dense` layer has 128 nodes (or neurons). The second layer returns a logits array with length of 10. Each node contains a score that indicates the current image belongs to one of the 10 classes.\n",
    "\n",
    "The `tf.keras.layers.Dropout` layer randomly sets input units to 0 with the specified `rate` at each step during training time, which helps prevent overfitting. Inputs not set to 0 are scaled up by `1/(1 - rate)` such that the sum over all inputs is unchanged."
   ]
  },
  {
   "cell_type": "markdown",
   "id": "blocked-attribute",
   "metadata": {
    "id": "gut8A_7rCaW6"
   },
   "source": [
    "#### Compile the model\n",
    "\n",
    "Before the model is ready for training, it needs a few more settings, added during the model's compile step:\n",
    "\n",
    "* *Optimizer* updates the model based on the data it sees and its loss function.\n",
    "* *Loss function* measures how accurate the model is during training. Optimizer minimizes the loss function to \"steer\" the model in the right direction.\n",
    "* *Metrics* are used to monitor the training and testing steps. The following example uses `accuracy`—the fraction of the images that are correctly classified."
   ]
  },
  {
   "cell_type": "code",
   "execution_count": null,
   "id": "sharing-roommate",
   "metadata": {},
   "outputs": [],
   "source": [
    "model.compile(\n",
    "    optimizer=\"adam\",\n",
    "    loss=tf.keras.losses.SparseCategoricalCrossentropy(from_logits=True),\n",
    "    metrics=[\"accuracy\"],\n",
    ")"
   ]
  },
  {
   "cell_type": "markdown",
   "id": "smaller-fortune",
   "metadata": {
    "id": "qKF6uW-BCaW-"
   },
   "source": [
    "### Train the Model"
   ]
  },
  {
   "cell_type": "markdown",
   "id": "royal-blade",
   "metadata": {
    "id": "Z4P4zIV7E28Z"
   },
   "source": [
    "#### Feed the model\n",
    "\n",
    "To start training, call the `model.fit` method to \"fit\" the model to the training data. It adjusts the model parameters to minimize the loss."
   ]
  },
  {
   "cell_type": "code",
   "execution_count": null,
   "id": "elementary-cancer",
   "metadata": {},
   "outputs": [],
   "source": [
    "_ = model.fit(train_images, train_labels, epochs=5)"
   ]
  },
  {
   "cell_type": "markdown",
   "id": "accurate-evaluation",
   "metadata": {
    "id": "wCpr6DGyE28h"
   },
   "source": [
    "#### Evaluate accuracy\n",
    "\n",
    "Next, compare how the model performs on the test dataset."
   ]
  },
  {
   "cell_type": "code",
   "execution_count": null,
   "id": "smoking-franchise",
   "metadata": {},
   "outputs": [],
   "source": [
    "test_loss, test_acc = model.evaluate(test_images, test_labels, verbose=2)\n",
    "\n",
    "print(f\"\\nTest accuracy: {test_acc * 100:.2f}%\")"
   ]
  },
  {
   "cell_type": "markdown",
   "id": "optimum-making",
   "metadata": {
    "id": "v-PyD1SYE28q"
   },
   "source": [
    "#### Make predictions\n",
    "\n",
    "With the model trained, you can use it to make predictions about some images.\n",
    "\n",
    "For each example the model returns a vector of [logits](https://developers.google.com/machine-learning/glossary#logits). The `tf.nn.softmax` function converts these logits to probabilities, which are easier to interpret."
   ]
  },
  {
   "cell_type": "code",
   "execution_count": null,
   "id": "balanced-learning",
   "metadata": {},
   "outputs": [],
   "source": [
    "probability_model = tf.keras.Sequential([model, tf.keras.layers.Softmax()])\n",
    "predictions = probability_model.predict(test_images)"
   ]
  },
  {
   "cell_type": "markdown",
   "id": "strong-estonia",
   "metadata": {
    "id": "x9Kk1voUCaXJ"
   },
   "source": [
    "Look at the first prediction."
   ]
  },
  {
   "cell_type": "code",
   "execution_count": null,
   "id": "several-hebrew",
   "metadata": {},
   "outputs": [],
   "source": [
    "predictions[0]"
   ]
  },
  {
   "cell_type": "markdown",
   "id": "artistic-breakfast",
   "metadata": {
    "id": "-hw1hgeSCaXN"
   },
   "source": [
    "A prediction is an array of 10 numbers. They represent the model's \"confidence\" that the image corresponds to each of the 10 different digits.\n",
    "\n",
    "You can see which label has the highest confidence value."
   ]
  },
  {
   "cell_type": "code",
   "execution_count": null,
   "id": "south-bride",
   "metadata": {
    "id": "qsqenuPnCaXO",
    "tags": []
   },
   "outputs": [],
   "source": [
    "import numpy as np\n",
    "\n",
    "np.argmax(predictions[0])"
   ]
  },
  {
   "cell_type": "markdown",
   "id": "guilty-accused",
   "metadata": {
    "id": "E51yS7iCCaXO"
   },
   "source": [
    "So, the model is most confident that this image is 7.\n",
    "\n",
    "Examining the test label shows that this classification is correct."
   ]
  },
  {
   "cell_type": "code",
   "execution_count": null,
   "id": "sacred-exception",
   "metadata": {
    "id": "Sd7Pgsu6CaXP",
    "tags": []
   },
   "outputs": [],
   "source": [
    "test_labels[0]"
   ]
  },
  {
   "cell_type": "markdown",
   "id": "known-irrigation",
   "metadata": {
    "id": "Zh9yABaME29S"
   },
   "source": [
    "#### Verify predictions\n",
    "\n",
    "With the model trained, you can use it to make predictions."
   ]
  },
  {
   "cell_type": "code",
   "execution_count": null,
   "id": "average-agenda",
   "metadata": {
    "id": "DvYmmrpIy6Y1",
    "tags": []
   },
   "outputs": [],
   "source": [
    "def plot_image(predictions, true_label, image):\n",
    "    plt.grid(False)\n",
    "    plt.xticks([])\n",
    "    plt.yticks([])\n",
    "\n",
    "    plt.imshow(image, cmap=plt.cm.binary)\n",
    "\n",
    "    predicted_label = np.argmax(predictions)\n",
    "    if predicted_label == true_label:\n",
    "        color = \"blue\"\n",
    "    else:\n",
    "        color = \"red\"\n",
    "\n",
    "    plt.xlabel(\n",
    "        f\"{predicted_label} {100 * np.max(predictions):2.0f}% ({true_label})\",\n",
    "        color=color,\n",
    "    )\n",
    "\n",
    "def plot_value_array(predictions_array, true_label):\n",
    "    plt.grid(False)\n",
    "    plt.xticks(range(10))\n",
    "    plt.yticks([])\n",
    "    plt.ylim([0, 1])\n",
    "\n",
    "    plot = plt.bar(range(10), predictions_array, color=\"#777777\")\n",
    "    predicted_label = np.argmax(predictions_array)\n",
    "    plot[predicted_label].set_color(\"red\")\n",
    "    plot[true_label].set_color(\"blue\")"
   ]
  },
  {
   "cell_type": "markdown",
   "id": "adequate-transfer",
   "metadata": {
    "id": "d4Ov9OFDMmOD"
   },
   "source": [
    "Look at two predictions, one right and one wrong. Correct prediction labels are blue and incorrect prediction labels are red."
   ]
  },
  {
   "cell_type": "code",
   "execution_count": null,
   "id": "postal-valuable",
   "metadata": {
    "id": "HV5jw-5HwSmO",
    "tags": []
   },
   "outputs": [],
   "source": [
    "right = np.argwhere((np.argmax(predictions, axis=1) - test_labels) == 0).flatten()\n",
    "i = np.random.choice(right, 1)[0]\n",
    "plt.figure(figsize=(6, 3))\n",
    "plt.subplot(1, 2, 1)\n",
    "plot_image(predictions[i], test_labels[i], test_images[i])\n",
    "plt.subplot(1, 2, 2)\n",
    "plot_value_array(predictions[i], test_labels[i])\n",
    "plt.show()"
   ]
  },
  {
   "cell_type": "code",
   "execution_count": null,
   "id": "focused-while",
   "metadata": {
    "id": "Ko-uzOufSCSe",
    "tags": []
   },
   "outputs": [],
   "source": [
    "wrong = np.argwhere((np.argmax(predictions, axis=1) - test_labels) != 0).flatten()\n",
    "i = np.random.choice(wrong, 1)[0]\n",
    "plt.figure(figsize=(6, 3))\n",
    "plt.subplot(1, 2, 1)\n",
    "plot_image(predictions[i], test_labels[i], test_images[i])\n",
    "plt.subplot(1, 2, 2)\n",
    "plot_value_array(predictions[i], test_labels[i])\n",
    "plt.show()"
   ]
  },
  {
   "cell_type": "markdown",
   "id": "portuguese-impression",
   "metadata": {
    "id": "kgdvGD52CaXR"
   },
   "source": [
    "Plot several images with their predictions. Note that the model can be wrong even when very confident."
   ]
  },
  {
   "cell_type": "code",
   "execution_count": null,
   "id": "accepted-focus",
   "metadata": {},
   "outputs": [],
   "source": [
    "num_rows = 2\n",
    "num_cols = 3\n",
    "num_images = num_rows * num_cols\n",
    "\n",
    "right_sample = np.random.choice(right, int(np.ceil(num_images / 2)))\n",
    "wrong_sample = np.random.choice(wrong, int(np.floor(num_images / 2)))\n",
    "images = np.concatenate((right_sample, wrong_sample))\n",
    "np.random.shuffle(images)\n",
    "\n",
    "plt.figure(figsize=(2 * 2 * num_cols, 2 * num_rows))\n",
    "for index, image in enumerate(images):\n",
    "    plt.subplot(num_rows, 2 * num_cols, 2 * index + 1)\n",
    "    plot_image(predictions[image], test_labels[image], test_images[image])\n",
    "    plt.subplot(num_rows, 2 * num_cols, 2 * index + 2)\n",
    "    plot_value_array(predictions[image], test_labels[image])\n",
    "plt.tight_layout()\n",
    "plt.show()"
   ]
  },
  {
   "cell_type": "markdown",
   "id": "difficult-aquarium",
   "metadata": {
    "id": "R32zteKHCaXT"
   },
   "source": [
    "## Use the Trained Model\n",
    "\n",
    "Now we'll use the model to make a prediction about our image.\n",
    "\n",
    "Draw a digit and save it as `digit.jpg`. The picture should be square."
   ]
  },
  {
   "cell_type": "code",
   "execution_count": null,
   "id": "indie-wrist",
   "metadata": {},
   "outputs": [],
   "source": [
    "image = tf.keras.preprocessing.image.load_img(\n",
    "    \"digit.jpg\", color_mode=\"grayscale\", target_size=(28, 28)\n",
    ")\n",
    "image = 1 - tf.keras.preprocessing.image.img_to_array(image).reshape(28, 28) / 255\n",
    "image.shape"
   ]
  },
  {
   "cell_type": "code",
   "execution_count": null,
   "id": "specified-damages",
   "metadata": {},
   "outputs": [],
   "source": [
    "true_label = int(input(\"Enter the digit you drew:\"))"
   ]
  },
  {
   "cell_type": "code",
   "execution_count": null,
   "id": "affecting-sensitivity",
   "metadata": {},
   "outputs": [],
   "source": [
    "plt.imshow(image, cmap=plt.cm.binary)\n",
    "plt.colorbar()\n",
    "plt.show()"
   ]
  },
  {
   "cell_type": "markdown",
   "id": "hungry-samoa",
   "metadata": {
    "id": "vz3bVp21CaXV"
   },
   "source": [
    "`tf.keras` models are optimized to make predictions on a batch (collection) of examples at once. Accordingly, even though you're using a single image, you need to add it to a list."
   ]
  },
  {
   "cell_type": "code",
   "execution_count": null,
   "id": "applicable-marsh",
   "metadata": {
    "id": "lDFh5yF_CaXW",
    "tags": []
   },
   "outputs": [],
   "source": [
    "image = np.expand_dims(image, 0)\n",
    "image.shape"
   ]
  },
  {
   "cell_type": "markdown",
   "id": "cognitive-communication",
   "metadata": {
    "id": "EQ5wLTkcCaXY"
   },
   "source": [
    "Now predict the label for the image."
   ]
  },
  {
   "cell_type": "code",
   "execution_count": null,
   "id": "swiss-breeding",
   "metadata": {
    "id": "o_rzNSdrCaXY",
    "tags": []
   },
   "outputs": [],
   "source": [
    "prediction = probability_model.predict(image)\n",
    "prediction"
   ]
  },
  {
   "cell_type": "markdown",
   "id": "dramatic-packaging",
   "metadata": {
    "id": "cU1Y2OAMCaXb"
   },
   "source": [
    "`tf.keras.Model.predict` returns a list of lists—one list for each image in the batch of data. Grab the predictions for our (only) image in the batch:"
   ]
  },
  {
   "cell_type": "code",
   "execution_count": null,
   "id": "excellent-pickup",
   "metadata": {
    "id": "2tRmdq_8CaXb",
    "tags": []
   },
   "outputs": [],
   "source": [
    "prediction = prediction[0]\n",
    "np.argmax(prediction)"
   ]
  },
  {
   "cell_type": "code",
   "execution_count": null,
   "id": "cloudy-lunch",
   "metadata": {},
   "outputs": [],
   "source": [
    "plt.figure(figsize=(6, 3))\n",
    "plt.subplot(1, 2, 1)\n",
    "plot_image(prediction, true_label, image[0])\n",
    "plt.subplot(1, 2, 2)\n",
    "plot_value_array(prediction, true_label)\n",
    "plt.show()"
   ]
  },
  {
   "cell_type": "code",
   "execution_count": null,
   "id": "governing-malaysia",
   "metadata": {},
   "outputs": [],
   "source": []
  }
 ],
 "metadata": {
  "kernelspec": {
   "display_name": "Python 3",
   "language": "python",
   "name": "python3"
  },
  "language_info": {
   "codemirror_mode": {
    "name": "ipython",
    "version": 3
   },
   "file_extension": ".py",
   "mimetype": "text/x-python",
   "name": "python",
   "nbconvert_exporter": "python",
   "pygments_lexer": "ipython3",
   "version": "3.8.5"
  }
 },
 "nbformat": 4,
 "nbformat_minor": 5
}
